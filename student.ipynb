{
 "cells": [
  {
   "cell_type": "markdown",
   "metadata": {},
   "source": [
    "## Final Project Submission\n",
    "\n",
    "Please fill out:\n",
    "* Student name: \n",
    "* Student pace: self paced / part time / full time\n",
    "* Scheduled project review date/time: \n",
    "* Instructor name: \n",
    "* Blog post URL:\n"
   ]
  },
  {
   "cell_type": "code",
   "execution_count": 1,
   "metadata": {
    "scrolled": true
   },
   "outputs": [
    {
     "data": {
      "text/html": [
       "<div>\n",
       "<style scoped>\n",
       "    .dataframe tbody tr th:only-of-type {\n",
       "        vertical-align: middle;\n",
       "    }\n",
       "\n",
       "    .dataframe tbody tr th {\n",
       "        vertical-align: top;\n",
       "    }\n",
       "\n",
       "    .dataframe thead th {\n",
       "        text-align: right;\n",
       "    }\n",
       "</style>\n",
       "<table border=\"1\" class=\"dataframe\">\n",
       "  <thead>\n",
       "    <tr style=\"text-align: right;\">\n",
       "      <th></th>\n",
       "      <th>id</th>\n",
       "      <th>date</th>\n",
       "      <th>price</th>\n",
       "      <th>bedrooms</th>\n",
       "      <th>bathrooms</th>\n",
       "      <th>sqft_living</th>\n",
       "      <th>sqft_lot</th>\n",
       "      <th>floors</th>\n",
       "      <th>waterfront</th>\n",
       "      <th>view</th>\n",
       "      <th>...</th>\n",
       "      <th>grade</th>\n",
       "      <th>sqft_above</th>\n",
       "      <th>sqft_basement</th>\n",
       "      <th>yr_built</th>\n",
       "      <th>yr_renovated</th>\n",
       "      <th>zipcode</th>\n",
       "      <th>lat</th>\n",
       "      <th>long</th>\n",
       "      <th>sqft_living15</th>\n",
       "      <th>sqft_lot15</th>\n",
       "    </tr>\n",
       "  </thead>\n",
       "  <tbody>\n",
       "    <tr>\n",
       "      <th>0</th>\n",
       "      <td>7129300520</td>\n",
       "      <td>10/13/2014</td>\n",
       "      <td>221900.0</td>\n",
       "      <td>3</td>\n",
       "      <td>1.00</td>\n",
       "      <td>1180</td>\n",
       "      <td>5650</td>\n",
       "      <td>1.0</td>\n",
       "      <td>NaN</td>\n",
       "      <td>NONE</td>\n",
       "      <td>...</td>\n",
       "      <td>7 Average</td>\n",
       "      <td>1180</td>\n",
       "      <td>0.0</td>\n",
       "      <td>1955</td>\n",
       "      <td>0.0</td>\n",
       "      <td>98178</td>\n",
       "      <td>47.5112</td>\n",
       "      <td>-122.257</td>\n",
       "      <td>1340</td>\n",
       "      <td>5650</td>\n",
       "    </tr>\n",
       "    <tr>\n",
       "      <th>1</th>\n",
       "      <td>6414100192</td>\n",
       "      <td>12/9/2014</td>\n",
       "      <td>538000.0</td>\n",
       "      <td>3</td>\n",
       "      <td>2.25</td>\n",
       "      <td>2570</td>\n",
       "      <td>7242</td>\n",
       "      <td>2.0</td>\n",
       "      <td>NO</td>\n",
       "      <td>NONE</td>\n",
       "      <td>...</td>\n",
       "      <td>7 Average</td>\n",
       "      <td>2170</td>\n",
       "      <td>400.0</td>\n",
       "      <td>1951</td>\n",
       "      <td>1991.0</td>\n",
       "      <td>98125</td>\n",
       "      <td>47.7210</td>\n",
       "      <td>-122.319</td>\n",
       "      <td>1690</td>\n",
       "      <td>7639</td>\n",
       "    </tr>\n",
       "    <tr>\n",
       "      <th>2</th>\n",
       "      <td>5631500400</td>\n",
       "      <td>2/25/2015</td>\n",
       "      <td>180000.0</td>\n",
       "      <td>2</td>\n",
       "      <td>1.00</td>\n",
       "      <td>770</td>\n",
       "      <td>10000</td>\n",
       "      <td>1.0</td>\n",
       "      <td>NO</td>\n",
       "      <td>NONE</td>\n",
       "      <td>...</td>\n",
       "      <td>6 Low Average</td>\n",
       "      <td>770</td>\n",
       "      <td>0.0</td>\n",
       "      <td>1933</td>\n",
       "      <td>NaN</td>\n",
       "      <td>98028</td>\n",
       "      <td>47.7379</td>\n",
       "      <td>-122.233</td>\n",
       "      <td>2720</td>\n",
       "      <td>8062</td>\n",
       "    </tr>\n",
       "    <tr>\n",
       "      <th>3</th>\n",
       "      <td>2487200875</td>\n",
       "      <td>12/9/2014</td>\n",
       "      <td>604000.0</td>\n",
       "      <td>4</td>\n",
       "      <td>3.00</td>\n",
       "      <td>1960</td>\n",
       "      <td>5000</td>\n",
       "      <td>1.0</td>\n",
       "      <td>NO</td>\n",
       "      <td>NONE</td>\n",
       "      <td>...</td>\n",
       "      <td>7 Average</td>\n",
       "      <td>1050</td>\n",
       "      <td>910.0</td>\n",
       "      <td>1965</td>\n",
       "      <td>0.0</td>\n",
       "      <td>98136</td>\n",
       "      <td>47.5208</td>\n",
       "      <td>-122.393</td>\n",
       "      <td>1360</td>\n",
       "      <td>5000</td>\n",
       "    </tr>\n",
       "    <tr>\n",
       "      <th>4</th>\n",
       "      <td>1954400510</td>\n",
       "      <td>2/18/2015</td>\n",
       "      <td>510000.0</td>\n",
       "      <td>3</td>\n",
       "      <td>2.00</td>\n",
       "      <td>1680</td>\n",
       "      <td>8080</td>\n",
       "      <td>1.0</td>\n",
       "      <td>NO</td>\n",
       "      <td>NONE</td>\n",
       "      <td>...</td>\n",
       "      <td>8 Good</td>\n",
       "      <td>1680</td>\n",
       "      <td>0.0</td>\n",
       "      <td>1987</td>\n",
       "      <td>0.0</td>\n",
       "      <td>98074</td>\n",
       "      <td>47.6168</td>\n",
       "      <td>-122.045</td>\n",
       "      <td>1800</td>\n",
       "      <td>7503</td>\n",
       "    </tr>\n",
       "  </tbody>\n",
       "</table>\n",
       "<p>5 rows × 21 columns</p>\n",
       "</div>"
      ],
      "text/plain": [
       "           id        date     price  bedrooms  bathrooms  sqft_living  \\\n",
       "0  7129300520  10/13/2014  221900.0         3       1.00         1180   \n",
       "1  6414100192   12/9/2014  538000.0         3       2.25         2570   \n",
       "2  5631500400   2/25/2015  180000.0         2       1.00          770   \n",
       "3  2487200875   12/9/2014  604000.0         4       3.00         1960   \n",
       "4  1954400510   2/18/2015  510000.0         3       2.00         1680   \n",
       "\n",
       "   sqft_lot  floors waterfront  view  ...          grade sqft_above  \\\n",
       "0      5650     1.0        NaN  NONE  ...      7 Average       1180   \n",
       "1      7242     2.0         NO  NONE  ...      7 Average       2170   \n",
       "2     10000     1.0         NO  NONE  ...  6 Low Average        770   \n",
       "3      5000     1.0         NO  NONE  ...      7 Average       1050   \n",
       "4      8080     1.0         NO  NONE  ...         8 Good       1680   \n",
       "\n",
       "   sqft_basement yr_built  yr_renovated  zipcode      lat     long  \\\n",
       "0            0.0     1955           0.0    98178  47.5112 -122.257   \n",
       "1          400.0     1951        1991.0    98125  47.7210 -122.319   \n",
       "2            0.0     1933           NaN    98028  47.7379 -122.233   \n",
       "3          910.0     1965           0.0    98136  47.5208 -122.393   \n",
       "4            0.0     1987           0.0    98074  47.6168 -122.045   \n",
       "\n",
       "   sqft_living15  sqft_lot15  \n",
       "0           1340        5650  \n",
       "1           1690        7639  \n",
       "2           2720        8062  \n",
       "3           1360        5000  \n",
       "4           1800        7503  \n",
       "\n",
       "[5 rows x 21 columns]"
      ]
     },
     "execution_count": 1,
     "metadata": {},
     "output_type": "execute_result"
    }
   ],
   "source": [
    "import pandas as pd\n",
    "import matplotlib.pyplot as plt\n",
    "%matplotlib inline\n",
    "df = pd.read_csv(\"data/kc_house_data.csv\")\n",
    "df.head()"
   ]
  },
  {
   "cell_type": "code",
   "execution_count": 2,
   "metadata": {},
   "outputs": [],
   "source": [
    "df2 = df.drop(columns = [\"view\", \"sqft_above\", \"sqft_basement\", \n",
    "\"yr_renovated\", \"zipcode\", \"lat\", \"long\", \"sqft_living15\", \"sqft_lot15\"])\n",
    "df = df.drop(columns = [\"date\", \"view\", \"sqft_above\", \"sqft_basement\", \n",
    "\"yr_renovated\", \"zipcode\", \"lat\", \"long\", \"sqft_living15\", \"sqft_lot15\"])"
   ]
  },
  {
   "cell_type": "code",
   "execution_count": 3,
   "metadata": {
    "scrolled": true
   },
   "outputs": [
    {
     "data": {
      "text/html": [
       "<div>\n",
       "<style scoped>\n",
       "    .dataframe tbody tr th:only-of-type {\n",
       "        vertical-align: middle;\n",
       "    }\n",
       "\n",
       "    .dataframe tbody tr th {\n",
       "        vertical-align: top;\n",
       "    }\n",
       "\n",
       "    .dataframe thead th {\n",
       "        text-align: right;\n",
       "    }\n",
       "</style>\n",
       "<table border=\"1\" class=\"dataframe\">\n",
       "  <thead>\n",
       "    <tr style=\"text-align: right;\">\n",
       "      <th></th>\n",
       "      <th>id</th>\n",
       "      <th>date</th>\n",
       "      <th>price</th>\n",
       "      <th>bedrooms</th>\n",
       "      <th>bathrooms</th>\n",
       "      <th>sqft_living</th>\n",
       "      <th>sqft_lot</th>\n",
       "      <th>floors</th>\n",
       "      <th>waterfront</th>\n",
       "      <th>condition</th>\n",
       "      <th>grade</th>\n",
       "      <th>yr_built</th>\n",
       "    </tr>\n",
       "  </thead>\n",
       "  <tbody>\n",
       "    <tr>\n",
       "      <th>0</th>\n",
       "      <td>7129300520</td>\n",
       "      <td>10/13/2014</td>\n",
       "      <td>221900.0</td>\n",
       "      <td>3</td>\n",
       "      <td>1.00</td>\n",
       "      <td>1180</td>\n",
       "      <td>5650</td>\n",
       "      <td>1.0</td>\n",
       "      <td>NaN</td>\n",
       "      <td>Average</td>\n",
       "      <td>7 Average</td>\n",
       "      <td>1955</td>\n",
       "    </tr>\n",
       "    <tr>\n",
       "      <th>1</th>\n",
       "      <td>6414100192</td>\n",
       "      <td>12/9/2014</td>\n",
       "      <td>538000.0</td>\n",
       "      <td>3</td>\n",
       "      <td>2.25</td>\n",
       "      <td>2570</td>\n",
       "      <td>7242</td>\n",
       "      <td>2.0</td>\n",
       "      <td>NO</td>\n",
       "      <td>Average</td>\n",
       "      <td>7 Average</td>\n",
       "      <td>1951</td>\n",
       "    </tr>\n",
       "    <tr>\n",
       "      <th>2</th>\n",
       "      <td>5631500400</td>\n",
       "      <td>2/25/2015</td>\n",
       "      <td>180000.0</td>\n",
       "      <td>2</td>\n",
       "      <td>1.00</td>\n",
       "      <td>770</td>\n",
       "      <td>10000</td>\n",
       "      <td>1.0</td>\n",
       "      <td>NO</td>\n",
       "      <td>Average</td>\n",
       "      <td>6 Low Average</td>\n",
       "      <td>1933</td>\n",
       "    </tr>\n",
       "    <tr>\n",
       "      <th>3</th>\n",
       "      <td>2487200875</td>\n",
       "      <td>12/9/2014</td>\n",
       "      <td>604000.0</td>\n",
       "      <td>4</td>\n",
       "      <td>3.00</td>\n",
       "      <td>1960</td>\n",
       "      <td>5000</td>\n",
       "      <td>1.0</td>\n",
       "      <td>NO</td>\n",
       "      <td>Very Good</td>\n",
       "      <td>7 Average</td>\n",
       "      <td>1965</td>\n",
       "    </tr>\n",
       "    <tr>\n",
       "      <th>4</th>\n",
       "      <td>1954400510</td>\n",
       "      <td>2/18/2015</td>\n",
       "      <td>510000.0</td>\n",
       "      <td>3</td>\n",
       "      <td>2.00</td>\n",
       "      <td>1680</td>\n",
       "      <td>8080</td>\n",
       "      <td>1.0</td>\n",
       "      <td>NO</td>\n",
       "      <td>Average</td>\n",
       "      <td>8 Good</td>\n",
       "      <td>1987</td>\n",
       "    </tr>\n",
       "  </tbody>\n",
       "</table>\n",
       "</div>"
      ],
      "text/plain": [
       "           id        date     price  bedrooms  bathrooms  sqft_living  \\\n",
       "0  7129300520  10/13/2014  221900.0         3       1.00         1180   \n",
       "1  6414100192   12/9/2014  538000.0         3       2.25         2570   \n",
       "2  5631500400   2/25/2015  180000.0         2       1.00          770   \n",
       "3  2487200875   12/9/2014  604000.0         4       3.00         1960   \n",
       "4  1954400510   2/18/2015  510000.0         3       2.00         1680   \n",
       "\n",
       "   sqft_lot  floors waterfront  condition          grade  yr_built  \n",
       "0      5650     1.0        NaN    Average      7 Average      1955  \n",
       "1      7242     2.0         NO    Average      7 Average      1951  \n",
       "2     10000     1.0         NO    Average  6 Low Average      1933  \n",
       "3      5000     1.0         NO  Very Good      7 Average      1965  \n",
       "4      8080     1.0         NO    Average         8 Good      1987  "
      ]
     },
     "execution_count": 3,
     "metadata": {},
     "output_type": "execute_result"
    }
   ],
   "source": [
    "df2.head()"
   ]
  },
  {
   "cell_type": "code",
   "execution_count": 4,
   "metadata": {},
   "outputs": [],
   "source": [
    "df2['date'] = pd.to_datetime(df2['date']) "
   ]
  },
  {
   "cell_type": "code",
   "execution_count": 5,
   "metadata": {},
   "outputs": [],
   "source": [
    "df2['year_sold'] = pd.DatetimeIndex(df2['date']).year"
   ]
  },
  {
   "cell_type": "code",
   "execution_count": 6,
   "metadata": {
    "scrolled": false
   },
   "outputs": [
    {
     "data": {
      "text/html": [
       "<div>\n",
       "<style scoped>\n",
       "    .dataframe tbody tr th:only-of-type {\n",
       "        vertical-align: middle;\n",
       "    }\n",
       "\n",
       "    .dataframe tbody tr th {\n",
       "        vertical-align: top;\n",
       "    }\n",
       "\n",
       "    .dataframe thead th {\n",
       "        text-align: right;\n",
       "    }\n",
       "</style>\n",
       "<table border=\"1\" class=\"dataframe\">\n",
       "  <thead>\n",
       "    <tr style=\"text-align: right;\">\n",
       "      <th></th>\n",
       "      <th>id</th>\n",
       "      <th>price</th>\n",
       "      <th>bedrooms</th>\n",
       "      <th>bathrooms</th>\n",
       "      <th>sqft_living</th>\n",
       "      <th>sqft_lot</th>\n",
       "      <th>floors</th>\n",
       "      <th>yr_built</th>\n",
       "      <th>year_sold</th>\n",
       "    </tr>\n",
       "  </thead>\n",
       "  <tbody>\n",
       "    <tr>\n",
       "      <th>count</th>\n",
       "      <td>2.159700e+04</td>\n",
       "      <td>2.159700e+04</td>\n",
       "      <td>21597.000000</td>\n",
       "      <td>21597.000000</td>\n",
       "      <td>21597.000000</td>\n",
       "      <td>2.159700e+04</td>\n",
       "      <td>21597.000000</td>\n",
       "      <td>21597.000000</td>\n",
       "      <td>21597.000000</td>\n",
       "    </tr>\n",
       "    <tr>\n",
       "      <th>mean</th>\n",
       "      <td>4.580474e+09</td>\n",
       "      <td>5.402966e+05</td>\n",
       "      <td>3.373200</td>\n",
       "      <td>2.115826</td>\n",
       "      <td>2080.321850</td>\n",
       "      <td>1.509941e+04</td>\n",
       "      <td>1.494096</td>\n",
       "      <td>1970.999676</td>\n",
       "      <td>2014.322962</td>\n",
       "    </tr>\n",
       "    <tr>\n",
       "      <th>std</th>\n",
       "      <td>2.876736e+09</td>\n",
       "      <td>3.673681e+05</td>\n",
       "      <td>0.926299</td>\n",
       "      <td>0.768984</td>\n",
       "      <td>918.106125</td>\n",
       "      <td>4.141264e+04</td>\n",
       "      <td>0.539683</td>\n",
       "      <td>29.375234</td>\n",
       "      <td>0.467619</td>\n",
       "    </tr>\n",
       "    <tr>\n",
       "      <th>min</th>\n",
       "      <td>1.000102e+06</td>\n",
       "      <td>7.800000e+04</td>\n",
       "      <td>1.000000</td>\n",
       "      <td>0.500000</td>\n",
       "      <td>370.000000</td>\n",
       "      <td>5.200000e+02</td>\n",
       "      <td>1.000000</td>\n",
       "      <td>1900.000000</td>\n",
       "      <td>2014.000000</td>\n",
       "    </tr>\n",
       "    <tr>\n",
       "      <th>25%</th>\n",
       "      <td>2.123049e+09</td>\n",
       "      <td>3.220000e+05</td>\n",
       "      <td>3.000000</td>\n",
       "      <td>1.750000</td>\n",
       "      <td>1430.000000</td>\n",
       "      <td>5.040000e+03</td>\n",
       "      <td>1.000000</td>\n",
       "      <td>1951.000000</td>\n",
       "      <td>2014.000000</td>\n",
       "    </tr>\n",
       "    <tr>\n",
       "      <th>50%</th>\n",
       "      <td>3.904930e+09</td>\n",
       "      <td>4.500000e+05</td>\n",
       "      <td>3.000000</td>\n",
       "      <td>2.250000</td>\n",
       "      <td>1910.000000</td>\n",
       "      <td>7.618000e+03</td>\n",
       "      <td>1.500000</td>\n",
       "      <td>1975.000000</td>\n",
       "      <td>2014.000000</td>\n",
       "    </tr>\n",
       "    <tr>\n",
       "      <th>75%</th>\n",
       "      <td>7.308900e+09</td>\n",
       "      <td>6.450000e+05</td>\n",
       "      <td>4.000000</td>\n",
       "      <td>2.500000</td>\n",
       "      <td>2550.000000</td>\n",
       "      <td>1.068500e+04</td>\n",
       "      <td>2.000000</td>\n",
       "      <td>1997.000000</td>\n",
       "      <td>2015.000000</td>\n",
       "    </tr>\n",
       "    <tr>\n",
       "      <th>max</th>\n",
       "      <td>9.900000e+09</td>\n",
       "      <td>7.700000e+06</td>\n",
       "      <td>33.000000</td>\n",
       "      <td>8.000000</td>\n",
       "      <td>13540.000000</td>\n",
       "      <td>1.651359e+06</td>\n",
       "      <td>3.500000</td>\n",
       "      <td>2015.000000</td>\n",
       "      <td>2015.000000</td>\n",
       "    </tr>\n",
       "  </tbody>\n",
       "</table>\n",
       "</div>"
      ],
      "text/plain": [
       "                 id         price      bedrooms     bathrooms   sqft_living  \\\n",
       "count  2.159700e+04  2.159700e+04  21597.000000  21597.000000  21597.000000   \n",
       "mean   4.580474e+09  5.402966e+05      3.373200      2.115826   2080.321850   \n",
       "std    2.876736e+09  3.673681e+05      0.926299      0.768984    918.106125   \n",
       "min    1.000102e+06  7.800000e+04      1.000000      0.500000    370.000000   \n",
       "25%    2.123049e+09  3.220000e+05      3.000000      1.750000   1430.000000   \n",
       "50%    3.904930e+09  4.500000e+05      3.000000      2.250000   1910.000000   \n",
       "75%    7.308900e+09  6.450000e+05      4.000000      2.500000   2550.000000   \n",
       "max    9.900000e+09  7.700000e+06     33.000000      8.000000  13540.000000   \n",
       "\n",
       "           sqft_lot        floors      yr_built     year_sold  \n",
       "count  2.159700e+04  21597.000000  21597.000000  21597.000000  \n",
       "mean   1.509941e+04      1.494096   1970.999676   2014.322962  \n",
       "std    4.141264e+04      0.539683     29.375234      0.467619  \n",
       "min    5.200000e+02      1.000000   1900.000000   2014.000000  \n",
       "25%    5.040000e+03      1.000000   1951.000000   2014.000000  \n",
       "50%    7.618000e+03      1.500000   1975.000000   2014.000000  \n",
       "75%    1.068500e+04      2.000000   1997.000000   2015.000000  \n",
       "max    1.651359e+06      3.500000   2015.000000   2015.000000  "
      ]
     },
     "execution_count": 6,
     "metadata": {},
     "output_type": "execute_result"
    }
   ],
   "source": [
    "df2.describe()\n",
    "#Only homes sold in 2014-2015"
   ]
  },
  {
   "cell_type": "code",
   "execution_count": 7,
   "metadata": {},
   "outputs": [],
   "source": [
    "df = df.dropna()"
   ]
  },
  {
   "cell_type": "code",
   "execution_count": 8,
   "metadata": {},
   "outputs": [
    {
     "name": "stdout",
     "output_type": "stream",
     "text": [
      "<class 'pandas.core.frame.DataFrame'>\n",
      "Int64Index: 19221 entries, 1 to 21596\n",
      "Data columns (total 11 columns):\n",
      " #   Column       Non-Null Count  Dtype  \n",
      "---  ------       --------------  -----  \n",
      " 0   id           19221 non-null  int64  \n",
      " 1   price        19221 non-null  float64\n",
      " 2   bedrooms     19221 non-null  int64  \n",
      " 3   bathrooms    19221 non-null  float64\n",
      " 4   sqft_living  19221 non-null  int64  \n",
      " 5   sqft_lot     19221 non-null  int64  \n",
      " 6   floors       19221 non-null  float64\n",
      " 7   waterfront   19221 non-null  object \n",
      " 8   condition    19221 non-null  object \n",
      " 9   grade        19221 non-null  object \n",
      " 10  yr_built     19221 non-null  int64  \n",
      "dtypes: float64(3), int64(5), object(3)\n",
      "memory usage: 1.8+ MB\n"
     ]
    }
   ],
   "source": [
    "df.info()"
   ]
  },
  {
   "cell_type": "code",
   "execution_count": 9,
   "metadata": {},
   "outputs": [],
   "source": [
    "def vs(x, y, z):\n",
    "    print(df.value_counts(x))\n",
    "    print(df.value_counts(y))\n",
    "    print(df.value_counts(z))"
   ]
  },
  {
   "cell_type": "code",
   "execution_count": 10,
   "metadata": {
    "scrolled": true
   },
   "outputs": [
    {
     "name": "stdout",
     "output_type": "stream",
     "text": [
      "waterfront\n",
      "NO     19075\n",
      "YES      146\n",
      "dtype: int64\n",
      "condition\n",
      "Average      12474\n",
      "Good          5058\n",
      "Very Good     1512\n",
      "Fair           152\n",
      "Poor            25\n",
      "dtype: int64\n",
      "grade\n",
      "7 Average        7974\n",
      "8 Good           5409\n",
      "9 Better         2320\n",
      "6 Low Average    1810\n",
      "10 Very Good     1018\n",
      "11 Excellent      357\n",
      "5 Fair            212\n",
      "12 Luxury          82\n",
      "4 Low              25\n",
      "13 Mansion         13\n",
      "3 Poor              1\n",
      "dtype: int64\n"
     ]
    }
   ],
   "source": [
    "vs(\"waterfront\", \"condition\", \"grade\")"
   ]
  },
  {
   "cell_type": "code",
   "execution_count": 11,
   "metadata": {
    "scrolled": true
   },
   "outputs": [],
   "source": [
    "df = df.replace(\"NO\", 0)\n",
    "df = df.replace(\"YES\", 1)"
   ]
  },
  {
   "cell_type": "code",
   "execution_count": 12,
   "metadata": {},
   "outputs": [
    {
     "data": {
      "text/plain": [
       "waterfront\n",
       "0    19075\n",
       "1      146\n",
       "dtype: int64"
      ]
     },
     "execution_count": 12,
     "metadata": {},
     "output_type": "execute_result"
    }
   ],
   "source": [
    "df.value_counts(\"waterfront\")"
   ]
  },
  {
   "cell_type": "code",
   "execution_count": 13,
   "metadata": {},
   "outputs": [
    {
     "name": "stdout",
     "output_type": "stream",
     "text": [
      "condition\n",
      "3    12474\n",
      "4     5058\n",
      "5     1512\n",
      "2      152\n",
      "1       25\n",
      "dtype: int64\n"
     ]
    }
   ],
   "source": [
    "rep = df.replace\n",
    "def condition(a, b, c, d, e):\n",
    "    rep(a, 1, inplace=True)\n",
    "    rep(b, 2, inplace=True)\n",
    "    rep(c, 3, inplace=True)\n",
    "    rep(d, 4, inplace=True)\n",
    "    rep(e, 5, inplace=True)\n",
    "    print(df.value_counts(\"condition\"))\n",
    "\n",
    "condition(\"Poor\", \"Fair\", \"Average\", \"Good\", \"Very Good\")"
   ]
  },
  {
   "cell_type": "code",
   "execution_count": 14,
   "metadata": {
    "scrolled": true
   },
   "outputs": [
    {
     "name": "stdout",
     "output_type": "stream",
     "text": [
      "grade\n",
      "7     7974\n",
      "8     5409\n",
      "9     2320\n",
      "6     1810\n",
      "10    1018\n",
      "11     357\n",
      "5      212\n",
      "12      82\n",
      "4       25\n",
      "13      13\n",
      "3        1\n",
      "dtype: int64\n"
     ]
    }
   ],
   "source": [
    "def grade (a, b, c, d, e, f, g, h, i, j, k):\n",
    "    rep(a, 3, inplace=True)\n",
    "    rep(b, 4, inplace=True)\n",
    "    rep(c, 5, inplace=True)\n",
    "    rep(d, 6, inplace=True)\n",
    "    rep(e, 7, inplace=True)\n",
    "    rep(f, 8, inplace=True)\n",
    "    rep(g, 9, inplace=True)\n",
    "    rep(h, 10, inplace=True)\n",
    "    rep(i, 11, inplace=True)\n",
    "    rep(j, 12, inplace=True)\n",
    "    rep(k, 13, inplace=True)\n",
    "    print(df.value_counts(\"grade\"))\n",
    "    \n",
    "grade(\"3 Poor\", \"4 Low\", \"5 Fair\", \"6 Low Average\", \"7 Average\", \"8 Good\", \"9 Better\", \"10 Very Good\", \n",
    "          \"11 Excellent\", \"12 Luxury\", \"13 Mansion\")"
   ]
  },
  {
   "cell_type": "code",
   "execution_count": 15,
   "metadata": {},
   "outputs": [
    {
     "data": {
      "text/html": [
       "<div>\n",
       "<style scoped>\n",
       "    .dataframe tbody tr th:only-of-type {\n",
       "        vertical-align: middle;\n",
       "    }\n",
       "\n",
       "    .dataframe tbody tr th {\n",
       "        vertical-align: top;\n",
       "    }\n",
       "\n",
       "    .dataframe thead th {\n",
       "        text-align: right;\n",
       "    }\n",
       "</style>\n",
       "<table border=\"1\" class=\"dataframe\">\n",
       "  <thead>\n",
       "    <tr style=\"text-align: right;\">\n",
       "      <th></th>\n",
       "      <th>id</th>\n",
       "      <th>price</th>\n",
       "      <th>bedrooms</th>\n",
       "      <th>bathrooms</th>\n",
       "      <th>sqft_living</th>\n",
       "      <th>sqft_lot</th>\n",
       "      <th>floors</th>\n",
       "      <th>waterfront</th>\n",
       "      <th>condition</th>\n",
       "      <th>grade</th>\n",
       "      <th>yr_built</th>\n",
       "    </tr>\n",
       "  </thead>\n",
       "  <tbody>\n",
       "    <tr>\n",
       "      <th>count</th>\n",
       "      <td>1.922100e+04</td>\n",
       "      <td>1.922100e+04</td>\n",
       "      <td>19221.000000</td>\n",
       "      <td>19221.000000</td>\n",
       "      <td>19221.000000</td>\n",
       "      <td>1.922100e+04</td>\n",
       "      <td>19221.000000</td>\n",
       "      <td>19221.000000</td>\n",
       "      <td>19221.000000</td>\n",
       "      <td>19221.000000</td>\n",
       "      <td>19221.000000</td>\n",
       "    </tr>\n",
       "    <tr>\n",
       "      <th>mean</th>\n",
       "      <td>4.592301e+09</td>\n",
       "      <td>5.416398e+05</td>\n",
       "      <td>3.374642</td>\n",
       "      <td>2.117072</td>\n",
       "      <td>2082.420894</td>\n",
       "      <td>1.507376e+04</td>\n",
       "      <td>1.495031</td>\n",
       "      <td>0.007596</td>\n",
       "      <td>3.409968</td>\n",
       "      <td>7.661048</td>\n",
       "      <td>1971.039800</td>\n",
       "    </tr>\n",
       "    <tr>\n",
       "      <th>std</th>\n",
       "      <td>2.876995e+09</td>\n",
       "      <td>3.722478e+05</td>\n",
       "      <td>0.928539</td>\n",
       "      <td>0.769576</td>\n",
       "      <td>922.544859</td>\n",
       "      <td>4.081729e+04</td>\n",
       "      <td>0.540155</td>\n",
       "      <td>0.086825</td>\n",
       "      <td>0.650280</td>\n",
       "      <td>1.175998</td>\n",
       "      <td>29.384666</td>\n",
       "    </tr>\n",
       "    <tr>\n",
       "      <th>min</th>\n",
       "      <td>1.000102e+06</td>\n",
       "      <td>7.800000e+04</td>\n",
       "      <td>1.000000</td>\n",
       "      <td>0.500000</td>\n",
       "      <td>370.000000</td>\n",
       "      <td>5.200000e+02</td>\n",
       "      <td>1.000000</td>\n",
       "      <td>0.000000</td>\n",
       "      <td>1.000000</td>\n",
       "      <td>3.000000</td>\n",
       "      <td>1900.000000</td>\n",
       "    </tr>\n",
       "    <tr>\n",
       "      <th>25%</th>\n",
       "      <td>2.124049e+09</td>\n",
       "      <td>3.220000e+05</td>\n",
       "      <td>3.000000</td>\n",
       "      <td>1.750000</td>\n",
       "      <td>1430.000000</td>\n",
       "      <td>5.040000e+03</td>\n",
       "      <td>1.000000</td>\n",
       "      <td>0.000000</td>\n",
       "      <td>3.000000</td>\n",
       "      <td>7.000000</td>\n",
       "      <td>1951.000000</td>\n",
       "    </tr>\n",
       "    <tr>\n",
       "      <th>50%</th>\n",
       "      <td>3.905081e+09</td>\n",
       "      <td>4.500000e+05</td>\n",
       "      <td>3.000000</td>\n",
       "      <td>2.250000</td>\n",
       "      <td>1920.000000</td>\n",
       "      <td>7.620000e+03</td>\n",
       "      <td>1.500000</td>\n",
       "      <td>0.000000</td>\n",
       "      <td>3.000000</td>\n",
       "      <td>7.000000</td>\n",
       "      <td>1975.000000</td>\n",
       "    </tr>\n",
       "    <tr>\n",
       "      <th>75%</th>\n",
       "      <td>7.334501e+09</td>\n",
       "      <td>6.440000e+05</td>\n",
       "      <td>4.000000</td>\n",
       "      <td>2.500000</td>\n",
       "      <td>2550.000000</td>\n",
       "      <td>1.071600e+04</td>\n",
       "      <td>2.000000</td>\n",
       "      <td>0.000000</td>\n",
       "      <td>4.000000</td>\n",
       "      <td>8.000000</td>\n",
       "      <td>1997.000000</td>\n",
       "    </tr>\n",
       "    <tr>\n",
       "      <th>max</th>\n",
       "      <td>9.900000e+09</td>\n",
       "      <td>7.700000e+06</td>\n",
       "      <td>33.000000</td>\n",
       "      <td>8.000000</td>\n",
       "      <td>13540.000000</td>\n",
       "      <td>1.651359e+06</td>\n",
       "      <td>3.500000</td>\n",
       "      <td>1.000000</td>\n",
       "      <td>5.000000</td>\n",
       "      <td>13.000000</td>\n",
       "      <td>2015.000000</td>\n",
       "    </tr>\n",
       "  </tbody>\n",
       "</table>\n",
       "</div>"
      ],
      "text/plain": [
       "                 id         price      bedrooms     bathrooms   sqft_living  \\\n",
       "count  1.922100e+04  1.922100e+04  19221.000000  19221.000000  19221.000000   \n",
       "mean   4.592301e+09  5.416398e+05      3.374642      2.117072   2082.420894   \n",
       "std    2.876995e+09  3.722478e+05      0.928539      0.769576    922.544859   \n",
       "min    1.000102e+06  7.800000e+04      1.000000      0.500000    370.000000   \n",
       "25%    2.124049e+09  3.220000e+05      3.000000      1.750000   1430.000000   \n",
       "50%    3.905081e+09  4.500000e+05      3.000000      2.250000   1920.000000   \n",
       "75%    7.334501e+09  6.440000e+05      4.000000      2.500000   2550.000000   \n",
       "max    9.900000e+09  7.700000e+06     33.000000      8.000000  13540.000000   \n",
       "\n",
       "           sqft_lot        floors    waterfront     condition         grade  \\\n",
       "count  1.922100e+04  19221.000000  19221.000000  19221.000000  19221.000000   \n",
       "mean   1.507376e+04      1.495031      0.007596      3.409968      7.661048   \n",
       "std    4.081729e+04      0.540155      0.086825      0.650280      1.175998   \n",
       "min    5.200000e+02      1.000000      0.000000      1.000000      3.000000   \n",
       "25%    5.040000e+03      1.000000      0.000000      3.000000      7.000000   \n",
       "50%    7.620000e+03      1.500000      0.000000      3.000000      7.000000   \n",
       "75%    1.071600e+04      2.000000      0.000000      4.000000      8.000000   \n",
       "max    1.651359e+06      3.500000      1.000000      5.000000     13.000000   \n",
       "\n",
       "           yr_built  \n",
       "count  19221.000000  \n",
       "mean    1971.039800  \n",
       "std       29.384666  \n",
       "min     1900.000000  \n",
       "25%     1951.000000  \n",
       "50%     1975.000000  \n",
       "75%     1997.000000  \n",
       "max     2015.000000  "
      ]
     },
     "execution_count": 15,
     "metadata": {},
     "output_type": "execute_result"
    }
   ],
   "source": [
    "df.describe()"
   ]
  },
  {
   "cell_type": "code",
   "execution_count": 16,
   "metadata": {},
   "outputs": [],
   "source": [
    "X = df.drop(\"price\", axis=1)\n",
    "y = df[\"price\"]"
   ]
  },
  {
   "cell_type": "code",
   "execution_count": 17,
   "metadata": {},
   "outputs": [],
   "source": [
    "from sklearn.model_selection import train_test_split\n",
    "\n",
    "X_train, X_test, y_train, y_test = train_test_split(X, y, random_state=42)"
   ]
  },
  {
   "cell_type": "code",
   "execution_count": 18,
   "metadata": {
    "scrolled": true
   },
   "outputs": [
    {
     "name": "stdout",
     "output_type": "stream",
     "text": [
      "X_train is a DataFrame with 14415 rows and 10 columns\n",
      "y_train is a Series with 14415 values\n"
     ]
    }
   ],
   "source": [
    "print(f\"X_train is a DataFrame with {X_train.shape[0]} rows and {X_train.shape[1]} columns\")\n",
    "print(f\"y_train is a Series with {y_train.shape[0]} values\")\n",
    "\n",
    "# We always should have the same number of rows in X as values in y\n",
    "assert X_train.shape[0] == y_train.shape[0]"
   ]
  },
  {
   "cell_type": "code",
   "execution_count": 19,
   "metadata": {},
   "outputs": [
    {
     "data": {
      "text/plain": [
       "LinearRegression()"
      ]
     },
     "execution_count": 19,
     "metadata": {},
     "output_type": "execute_result"
    }
   ],
   "source": [
    "from sklearn.linear_model import LinearRegression\n",
    "\n",
    "model = LinearRegression()\n",
    "model.fit(X_train, y_train)"
   ]
  },
  {
   "cell_type": "code",
   "execution_count": 20,
   "metadata": {},
   "outputs": [
    {
     "data": {
      "text/plain": [
       "array([0.63963391, 0.6423598 , 0.66913925])"
      ]
     },
     "execution_count": 20,
     "metadata": {},
     "output_type": "execute_result"
    }
   ],
   "source": [
    "from sklearn.model_selection import cross_val_score\n",
    "\n",
    "cross_val_score(model, X_train, y_train, cv=3)"
   ]
  },
  {
   "cell_type": "code",
   "execution_count": 21,
   "metadata": {
    "scrolled": true
   },
   "outputs": [
    {
     "data": {
      "text/plain": [
       "0.6364767961260284"
      ]
     },
     "execution_count": 21,
     "metadata": {},
     "output_type": "execute_result"
    }
   ],
   "source": [
    "model.fit(X_train, y_train)\n",
    "model.score(X_test, y_test)"
   ]
  },
  {
   "cell_type": "code",
   "execution_count": 22,
   "metadata": {},
   "outputs": [
    {
     "data": {
      "text/plain": [
       "46871950507.75605"
      ]
     },
     "execution_count": 22,
     "metadata": {},
     "output_type": "execute_result"
    }
   ],
   "source": [
    "from sklearn.metrics import mean_squared_error\n",
    "y_hat_test = model.predict(X_test)\n",
    "test_mse = mean_squared_error(y_test, y_hat_test)\n",
    "test_mse"
   ]
  },
  {
   "cell_type": "code",
   "execution_count": 23,
   "metadata": {
    "scrolled": true
   },
   "outputs": [
    {
     "data": {
      "text/plain": [
       "array([5.47348903e+10, 5.02915769e+10, 4.35694344e+10, 4.52275307e+10,\n",
       "       5.21593540e+10])"
      ]
     },
     "execution_count": 23,
     "metadata": {},
     "output_type": "execute_result"
    }
   ],
   "source": [
    "from sklearn.model_selection import cross_val_score\n",
    "cv_5_results = -cross_val_score(model, X, y, cv=5, scoring=\"neg_mean_squared_error\")\n",
    "cv_5_results"
   ]
  },
  {
   "cell_type": "code",
   "execution_count": 24,
   "metadata": {},
   "outputs": [
    {
     "data": {
      "text/plain": [
       "49196557268.46166"
      ]
     },
     "execution_count": 24,
     "metadata": {},
     "output_type": "execute_result"
    }
   ],
   "source": [
    "cv_5_results.mean()"
   ]
  },
  {
   "cell_type": "code",
   "execution_count": 25,
   "metadata": {},
   "outputs": [
    {
     "data": {
      "image/png": "[encoded data removed]",
      "text/plain": [
       "<Figure size 720x360 with 1 Axes>"
      ]
     },
     "metadata": {
      "needs_background": "light"
     },
     "output_type": "display_data"
    }
   ],
   "source": [
    "fig, ax = plt.subplots(figsize=(10, 5))\n",
    "\n",
    "ax.hist(y, bins=100)\n",
    "\n",
    "ax.set_xlabel(\"Sale Price (USD)\")\n",
    "ax.set_ylabel(\"Count of Houses Sold\")\n",
    "ax.set_title(\"Distribution of House Sale Prices\");"
   ]
  },
  {
   "cell_type": "code",
   "execution_count": 26,
   "metadata": {},
   "outputs": [
    {
     "data": {
      "image/png": "[encoded data removed]",
      "text/plain": [
       "<Figure size 360x576 with 2 Axes>"
      ]
     },
     "metadata": {
      "needs_background": "light"
     },
     "output_type": "display_data"
    }
   ],
   "source": [
    "import seaborn as sns\n",
    "import numpy as np\n",
    "\n",
    "# Create a df with the target as the first column,\n",
    "# then compute the correlation matrix\n",
    "heatmap_data = pd.concat([y_train, X_train], axis=1)\n",
    "corr = heatmap_data.corr()\n",
    "\n",
    "# Set up figure and axes\n",
    "fig, ax = plt.subplots(figsize=(5, 8))\n",
    "\n",
    "# Plot a heatmap of the correlation matrix, with both\n",
    "# numbers and colors indicating the correlations\n",
    "sns.heatmap(\n",
    "    # Specifies the data to be plotted\n",
    "    data=corr,\n",
    "    # The mask means we only show half the values,\n",
    "    # instead of showing duplicates. It's optional.\n",
    "    mask=np.triu(np.ones_like(corr, dtype=bool)),\n",
    "    # Specifies that we should use the existing axes\n",
    "    ax=ax,\n",
    "    # Specifies that we want labels, not just colors\n",
    "    annot=True,\n",
    "    # Customizes colorbar appearance\n",
    "    cbar_kws={\"label\": \"Correlation\", \"orientation\": \"horizontal\", \"pad\": .2, \"extend\": \"both\"}\n",
    ")\n",
    "\n",
    "# Customize the plot appearance\n",
    "ax.set_title(\"Heatmap of Correlation Between Attributes (Including Target)\");"
   ]
  },
  {
   "cell_type": "code",
   "execution_count": 27,
   "metadata": {},
   "outputs": [
    {
     "data": {
      "image/png": "[encoded data removed]",
      "text/plain": [
       "<Figure size 432x288 with 1 Axes>"
      ]
     },
     "metadata": {
      "needs_background": "light"
     },
     "output_type": "display_data"
    }
   ],
   "source": [
    "most_correlated_feature = \"sqft_living\"\n",
    "fig, ax = plt.subplots()\n",
    "\n",
    "ax.scatter(X_train[most_correlated_feature], y_train, alpha=0.5)\n",
    "ax.set_xlabel(most_correlated_feature)\n",
    "ax.set_ylabel(\"Sale Price\")\n",
    "ax.set_title(\"Most Correlated Feature vs. Sale Price\");"
   ]
  },
  {
   "cell_type": "code",
   "execution_count": 28,
   "metadata": {},
   "outputs": [
    {
     "name": "stdout",
     "output_type": "stream",
     "text": [
      "Train score:      0.49986799732932813\n",
      "Validation score: 0.5003429655065165\n"
     ]
    }
   ],
   "source": [
    "from sklearn.model_selection import cross_validate, ShuffleSplit\n",
    "\n",
    "splitter = ShuffleSplit(n_splits=3, test_size=0.25, random_state=0)\n",
    "\n",
    "baseline_scores = cross_validate(\n",
    "    estimator=model,\n",
    "    X=X_train[[most_correlated_feature]],\n",
    "    y=y_train,\n",
    "    return_train_score=True,\n",
    "    cv=splitter\n",
    ")\n",
    "\n",
    "print(\"Train score:     \", baseline_scores[\"train_score\"].mean())\n",
    "print(\"Validation score:\", baseline_scores[\"test_score\"].mean())"
   ]
  },
  {
   "cell_type": "code",
   "execution_count": 65,
   "metadata": {
    "scrolled": true
   },
   "outputs": [
    {
     "data": {
      "image/png": "[encoded data removed]",
      "text/plain": [
       "<Figure size 864x576 with 9 Axes>"
      ]
     },
     "metadata": {
      "needs_background": "light"
     },
     "output_type": "display_data"
    }
   ],
   "source": [
    "scatterplot_data = X_train.drop(\"sqft_living\", axis=1)\n",
    "\n",
    "fig, axes = plt.subplots(ncols=3,nrows=3,figsize=(12, 8))\n",
    "fig.set_tight_layout(True)\n",
    "\n",
    "for index, col in enumerate(scatterplot_data.columns):\n",
    "    ax = axes[index//3][index%3]\n",
    "    ax.scatter(X_train[col], y_train, alpha=0.2)\n",
    "    ax.set_xlabel(col)\n",
    "    ax.set_ylabel(\"Sale Price\")"
   ]
  },
  {
   "cell_type": "code",
   "execution_count": 42,
   "metadata": {
    "scrolled": true
   },
   "outputs": [
    {
     "data": {
      "text/html": [
       "<div>\n",
       "<style scoped>\n",
       "    .dataframe tbody tr th:only-of-type {\n",
       "        vertical-align: middle;\n",
       "    }\n",
       "\n",
       "    .dataframe tbody tr th {\n",
       "        vertical-align: top;\n",
       "    }\n",
       "\n",
       "    .dataframe thead th {\n",
       "        text-align: right;\n",
       "    }\n",
       "</style>\n",
       "<table border=\"1\" class=\"dataframe\">\n",
       "  <thead>\n",
       "    <tr style=\"text-align: right;\">\n",
       "      <th></th>\n",
       "      <th>bedrooms</th>\n",
       "      <th>bathrooms</th>\n",
       "      <th>sqft_living</th>\n",
       "      <th>sqft_lot</th>\n",
       "      <th>floors</th>\n",
       "      <th>waterfront</th>\n",
       "      <th>condition</th>\n",
       "      <th>grade</th>\n",
       "      <th>yr_built</th>\n",
       "    </tr>\n",
       "  </thead>\n",
       "  <tbody>\n",
       "    <tr>\n",
       "      <th>9364</th>\n",
       "      <td>3</td>\n",
       "      <td>1.75</td>\n",
       "      <td>1270</td>\n",
       "      <td>4815</td>\n",
       "      <td>1.5</td>\n",
       "      <td>0</td>\n",
       "      <td>3</td>\n",
       "      <td>6</td>\n",
       "      <td>1922</td>\n",
       "    </tr>\n",
       "    <tr>\n",
       "      <th>20531</th>\n",
       "      <td>3</td>\n",
       "      <td>3.50</td>\n",
       "      <td>1710</td>\n",
       "      <td>2212</td>\n",
       "      <td>2.0</td>\n",
       "      <td>0</td>\n",
       "      <td>3</td>\n",
       "      <td>7</td>\n",
       "      <td>2013</td>\n",
       "    </tr>\n",
       "    <tr>\n",
       "      <th>13399</th>\n",
       "      <td>4</td>\n",
       "      <td>2.75</td>\n",
       "      <td>2970</td>\n",
       "      <td>59677</td>\n",
       "      <td>1.0</td>\n",
       "      <td>0</td>\n",
       "      <td>4</td>\n",
       "      <td>8</td>\n",
       "      <td>1973</td>\n",
       "    </tr>\n",
       "    <tr>\n",
       "      <th>11172</th>\n",
       "      <td>3</td>\n",
       "      <td>2.00</td>\n",
       "      <td>1320</td>\n",
       "      <td>5665</td>\n",
       "      <td>1.0</td>\n",
       "      <td>0</td>\n",
       "      <td>3</td>\n",
       "      <td>7</td>\n",
       "      <td>1986</td>\n",
       "    </tr>\n",
       "    <tr>\n",
       "      <th>15510</th>\n",
       "      <td>3</td>\n",
       "      <td>1.75</td>\n",
       "      <td>2000</td>\n",
       "      <td>5680</td>\n",
       "      <td>1.0</td>\n",
       "      <td>0</td>\n",
       "      <td>4</td>\n",
       "      <td>7</td>\n",
       "      <td>1903</td>\n",
       "    </tr>\n",
       "    <tr>\n",
       "      <th>...</th>\n",
       "      <td>...</td>\n",
       "      <td>...</td>\n",
       "      <td>...</td>\n",
       "      <td>...</td>\n",
       "      <td>...</td>\n",
       "      <td>...</td>\n",
       "      <td>...</td>\n",
       "      <td>...</td>\n",
       "      <td>...</td>\n",
       "    </tr>\n",
       "    <tr>\n",
       "      <th>12685</th>\n",
       "      <td>3</td>\n",
       "      <td>1.00</td>\n",
       "      <td>1190</td>\n",
       "      <td>9083</td>\n",
       "      <td>1.0</td>\n",
       "      <td>0</td>\n",
       "      <td>3</td>\n",
       "      <td>7</td>\n",
       "      <td>1955</td>\n",
       "    </tr>\n",
       "    <tr>\n",
       "      <th>13442</th>\n",
       "      <td>6</td>\n",
       "      <td>1.50</td>\n",
       "      <td>1810</td>\n",
       "      <td>4838</td>\n",
       "      <td>1.5</td>\n",
       "      <td>0</td>\n",
       "      <td>4</td>\n",
       "      <td>5</td>\n",
       "      <td>1905</td>\n",
       "    </tr>\n",
       "    <tr>\n",
       "      <th>6091</th>\n",
       "      <td>3</td>\n",
       "      <td>1.00</td>\n",
       "      <td>1110</td>\n",
       "      <td>7000</td>\n",
       "      <td>1.5</td>\n",
       "      <td>0</td>\n",
       "      <td>4</td>\n",
       "      <td>7</td>\n",
       "      <td>1955</td>\n",
       "    </tr>\n",
       "    <tr>\n",
       "      <th>973</th>\n",
       "      <td>4</td>\n",
       "      <td>2.75</td>\n",
       "      <td>2790</td>\n",
       "      <td>10819</td>\n",
       "      <td>2.0</td>\n",
       "      <td>0</td>\n",
       "      <td>3</td>\n",
       "      <td>10</td>\n",
       "      <td>1996</td>\n",
       "    </tr>\n",
       "    <tr>\n",
       "      <th>17738</th>\n",
       "      <td>4</td>\n",
       "      <td>2.50</td>\n",
       "      <td>3170</td>\n",
       "      <td>94855</td>\n",
       "      <td>1.0</td>\n",
       "      <td>0</td>\n",
       "      <td>4</td>\n",
       "      <td>9</td>\n",
       "      <td>1978</td>\n",
       "    </tr>\n",
       "  </tbody>\n",
       "</table>\n",
       "<p>14415 rows × 9 columns</p>\n",
       "</div>"
      ],
      "text/plain": [
       "       bedrooms  bathrooms  sqft_living  sqft_lot  floors  waterfront  \\\n",
       "9364          3       1.75         1270      4815     1.5           0   \n",
       "20531         3       3.50         1710      2212     2.0           0   \n",
       "13399         4       2.75         2970     59677     1.0           0   \n",
       "11172         3       2.00         1320      5665     1.0           0   \n",
       "15510         3       1.75         2000      5680     1.0           0   \n",
       "...         ...        ...          ...       ...     ...         ...   \n",
       "12685         3       1.00         1190      9083     1.0           0   \n",
       "13442         6       1.50         1810      4838     1.5           0   \n",
       "6091          3       1.00         1110      7000     1.5           0   \n",
       "973           4       2.75         2790     10819     2.0           0   \n",
       "17738         4       2.50         3170     94855     1.0           0   \n",
       "\n",
       "       condition  grade  yr_built  \n",
       "9364           3      6      1922  \n",
       "20531          3      7      2013  \n",
       "13399          4      8      1973  \n",
       "11172          3      7      1986  \n",
       "15510          4      7      1903  \n",
       "...          ...    ...       ...  \n",
       "12685          3      7      1955  \n",
       "13442          4      5      1905  \n",
       "6091           4      7      1955  \n",
       "973            3     10      1996  \n",
       "17738          4      9      1978  \n",
       "\n",
       "[14415 rows x 9 columns]"
      ]
     },
     "execution_count": 42,
     "metadata": {},
     "output_type": "execute_result"
    }
   ],
   "source": [
    "X_train_second_model = X_train.drop([\"id\"], axis=1).copy()\n",
    "\n",
    "X_train_second_model"
   ]
  },
  {
   "cell_type": "code",
   "execution_count": 66,
   "metadata": {},
   "outputs": [
    {
     "data": {
      "image/png": "[encoded data removed]",
      "text/plain": [
       "<Figure size 864x576 with 8 Axes>"
      ]
     },
     "metadata": {
      "needs_background": "light"
     },
     "output_type": "display_data"
    }
   ],
   "source": [
    "scatterplot_data = X_train_second_model.drop(\"sqft_living\", axis=1)\n",
    "\n",
    "fig, axes = plt.subplots(ncols=4,nrows=2,figsize=(12, 8))\n",
    "fig.set_tight_layout(True)\n",
    "\n",
    "for index, col in enumerate(scatterplot_data.columns):\n",
    "    ax = axes[index//4][index%4]\n",
    "    ax.scatter(X_train[col], y_train, alpha=0.2)\n",
    "    ax.set_xlabel(col)\n",
    "    ax.set_ylabel(\"Sale Price\")"
   ]
  },
  {
   "cell_type": "code",
   "execution_count": 43,
   "metadata": {},
   "outputs": [
    {
     "name": "stdout",
     "output_type": "stream",
     "text": [
      "Current Model\n",
      "Train score:      0.648763284250451\n",
      "Validation score: 0.6620300067925414\n",
      "\n",
      "Baseline Model\n",
      "Train score:      0.49986799732932813\n",
      "Validation score: 0.5003429655065165\n"
     ]
    }
   ],
   "source": [
    "second_model = LinearRegression()\n",
    "\n",
    "second_model_scores = cross_validate(\n",
    "    estimator=second_model,\n",
    "    X=X_train_second_model,\n",
    "    y=y_train,\n",
    "    return_train_score=True,\n",
    "    cv=splitter\n",
    ")\n",
    "\n",
    "print(\"Current Model\")\n",
    "print(\"Train score:     \", second_model_scores[\"train_score\"].mean())\n",
    "print(\"Validation score:\", second_model_scores[\"test_score\"].mean())\n",
    "print()\n",
    "print(\"Baseline Model\")\n",
    "print(\"Train score:     \", baseline_scores[\"train_score\"].mean())\n",
    "print(\"Validation score:\", baseline_scores[\"test_score\"].mean())"
   ]
  },
  {
   "cell_type": "code",
   "execution_count": 44,
   "metadata": {},
   "outputs": [
    {
     "data": {
      "text/html": [
       "<table class=\"simpletable\">\n",
       "<caption>OLS Regression Results</caption>\n",
       "<tr>\n",
       "  <th>Dep. Variable:</th>          <td>price</td>      <th>  R-squared:         </th>  <td>   0.653</td>  \n",
       "</tr>\n",
       "<tr>\n",
       "  <th>Model:</th>                   <td>OLS</td>       <th>  Adj. R-squared:    </th>  <td>   0.653</td>  \n",
       "</tr>\n",
       "<tr>\n",
       "  <th>Method:</th>             <td>Least Squares</td>  <th>  F-statistic:       </th>  <td>   3014.</td>  \n",
       "</tr>\n",
       "<tr>\n",
       "  <th>Date:</th>             <td>Tue, 22 Nov 2022</td> <th>  Prob (F-statistic):</th>   <td>  0.00</td>   \n",
       "</tr>\n",
       "<tr>\n",
       "  <th>Time:</th>                 <td>09:16:25</td>     <th>  Log-Likelihood:    </th> <td>-1.9789e+05</td>\n",
       "</tr>\n",
       "<tr>\n",
       "  <th>No. Observations:</th>      <td> 14415</td>      <th>  AIC:               </th>  <td>3.958e+05</td> \n",
       "</tr>\n",
       "<tr>\n",
       "  <th>Df Residuals:</th>          <td> 14405</td>      <th>  BIC:               </th>  <td>3.959e+05</td> \n",
       "</tr>\n",
       "<tr>\n",
       "  <th>Df Model:</th>              <td>     9</td>      <th>                     </th>      <td> </td>     \n",
       "</tr>\n",
       "<tr>\n",
       "  <th>Covariance Type:</th>      <td>nonrobust</td>    <th>                     </th>      <td> </td>     \n",
       "</tr>\n",
       "</table>\n",
       "<table class=\"simpletable\">\n",
       "<tr>\n",
       "       <td></td>          <th>coef</th>     <th>std err</th>      <th>t</th>      <th>P>|t|</th>  <th>[0.025</th>    <th>0.975]</th>  \n",
       "</tr>\n",
       "<tr>\n",
       "  <th>const</th>       <td> 6.673e+06</td> <td> 1.61e+05</td> <td>   41.434</td> <td> 0.000</td> <td> 6.36e+06</td> <td> 6.99e+06</td>\n",
       "</tr>\n",
       "<tr>\n",
       "  <th>bedrooms</th>    <td>-4.218e+04</td> <td> 2487.521</td> <td>  -16.955</td> <td> 0.000</td> <td>-4.71e+04</td> <td>-3.73e+04</td>\n",
       "</tr>\n",
       "<tr>\n",
       "  <th>bathrooms</th>   <td> 5.079e+04</td> <td> 4288.381</td> <td>   11.843</td> <td> 0.000</td> <td> 4.24e+04</td> <td> 5.92e+04</td>\n",
       "</tr>\n",
       "<tr>\n",
       "  <th>sqft_living</th> <td>  182.7459</td> <td>    4.027</td> <td>   45.377</td> <td> 0.000</td> <td>  174.852</td> <td>  190.640</td>\n",
       "</tr>\n",
       "<tr>\n",
       "  <th>sqft_lot</th>    <td>   -0.2349</td> <td>    0.045</td> <td>   -5.164</td> <td> 0.000</td> <td>   -0.324</td> <td>   -0.146</td>\n",
       "</tr>\n",
       "<tr>\n",
       "  <th>floors</th>      <td> 2.111e+04</td> <td> 4309.060</td> <td>    4.899</td> <td> 0.000</td> <td> 1.27e+04</td> <td> 2.96e+04</td>\n",
       "</tr>\n",
       "<tr>\n",
       "  <th>waterfront</th>  <td> 7.873e+05</td> <td> 2.15e+04</td> <td>   36.618</td> <td> 0.000</td> <td> 7.45e+05</td> <td> 8.29e+05</td>\n",
       "</tr>\n",
       "<tr>\n",
       "  <th>condition</th>   <td> 1.783e+04</td> <td> 3102.816</td> <td>    5.746</td> <td> 0.000</td> <td> 1.17e+04</td> <td> 2.39e+04</td>\n",
       "</tr>\n",
       "<tr>\n",
       "  <th>grade</th>       <td> 1.275e+05</td> <td> 2660.699</td> <td>   47.911</td> <td> 0.000</td> <td> 1.22e+05</td> <td> 1.33e+05</td>\n",
       "</tr>\n",
       "<tr>\n",
       "  <th>yr_built</th>    <td>-3829.6035</td> <td>   82.712</td> <td>  -46.301</td> <td> 0.000</td> <td>-3991.729</td> <td>-3667.478</td>\n",
       "</tr>\n",
       "</table>\n",
       "<table class=\"simpletable\">\n",
       "<tr>\n",
       "  <th>Omnibus:</th>       <td>10374.917</td> <th>  Durbin-Watson:     </th>  <td>   1.986</td> \n",
       "</tr>\n",
       "<tr>\n",
       "  <th>Prob(Omnibus):</th>  <td> 0.000</td>   <th>  Jarque-Bera (JB):  </th> <td>596326.288</td>\n",
       "</tr>\n",
       "<tr>\n",
       "  <th>Skew:</th>           <td> 2.875</td>   <th>  Prob(JB):          </th>  <td>    0.00</td> \n",
       "</tr>\n",
       "<tr>\n",
       "  <th>Kurtosis:</th>       <td>33.980</td>   <th>  Cond. No.          </th>  <td>3.86e+06</td> \n",
       "</tr>\n",
       "</table><br/><br/>Notes:<br/>[1] Standard Errors assume that the covariance matrix of the errors is correctly specified.<br/>[2] The condition number is large, 3.86e+06. This might indicate that there are<br/>strong multicollinearity or other numerical problems."
      ],
      "text/plain": [
       "<class 'statsmodels.iolib.summary.Summary'>\n",
       "\"\"\"\n",
       "                            OLS Regression Results                            \n",
       "==============================================================================\n",
       "Dep. Variable:                  price   R-squared:                       0.653\n",
       "Model:                            OLS   Adj. R-squared:                  0.653\n",
       "Method:                 Least Squares   F-statistic:                     3014.\n",
       "Date:                Tue, 22 Nov 2022   Prob (F-statistic):               0.00\n",
       "Time:                        09:16:25   Log-Likelihood:            -1.9789e+05\n",
       "No. Observations:               14415   AIC:                         3.958e+05\n",
       "Df Residuals:                   14405   BIC:                         3.959e+05\n",
       "Df Model:                           9                                         \n",
       "Covariance Type:            nonrobust                                         \n",
       "===============================================================================\n",
       "                  coef    std err          t      P>|t|      [0.025      0.975]\n",
       "-------------------------------------------------------------------------------\n",
       "const        6.673e+06   1.61e+05     41.434      0.000    6.36e+06    6.99e+06\n",
       "bedrooms    -4.218e+04   2487.521    -16.955      0.000   -4.71e+04   -3.73e+04\n",
       "bathrooms    5.079e+04   4288.381     11.843      0.000    4.24e+04    5.92e+04\n",
       "sqft_living   182.7459      4.027     45.377      0.000     174.852     190.640\n",
       "sqft_lot       -0.2349      0.045     -5.164      0.000      -0.324      -0.146\n",
       "floors       2.111e+04   4309.060      4.899      0.000    1.27e+04    2.96e+04\n",
       "waterfront   7.873e+05   2.15e+04     36.618      0.000    7.45e+05    8.29e+05\n",
       "condition    1.783e+04   3102.816      5.746      0.000    1.17e+04    2.39e+04\n",
       "grade        1.275e+05   2660.699     47.911      0.000    1.22e+05    1.33e+05\n",
       "yr_built    -3829.6035     82.712    -46.301      0.000   -3991.729   -3667.478\n",
       "==============================================================================\n",
       "Omnibus:                    10374.917   Durbin-Watson:                   1.986\n",
       "Prob(Omnibus):                  0.000   Jarque-Bera (JB):           596326.288\n",
       "Skew:                           2.875   Prob(JB):                         0.00\n",
       "Kurtosis:                      33.980   Cond. No.                     3.86e+06\n",
       "==============================================================================\n",
       "\n",
       "Notes:\n",
       "[1] Standard Errors assume that the covariance matrix of the errors is correctly specified.\n",
       "[2] The condition number is large, 3.86e+06. This might indicate that there are\n",
       "strong multicollinearity or other numerical problems.\n",
       "\"\"\""
      ]
     },
     "execution_count": 44,
     "metadata": {},
     "output_type": "execute_result"
    }
   ],
   "source": [
    "import statsmodels.api as sm\n",
    "\n",
    "sm.OLS(y_train, sm.add_constant(X_train_second_model)).fit().summary()"
   ]
  },
  {
   "cell_type": "code",
   "execution_count": 45,
   "metadata": {},
   "outputs": [
    {
     "name": "stdout",
     "output_type": "stream",
     "text": [
      "Was the column selected?\n",
      "bedrooms: True\n",
      "bathrooms: True\n",
      "sqft_living: True\n",
      "sqft_lot: True\n",
      "floors: True\n",
      "waterfront: True\n",
      "condition: True\n",
      "grade: True\n",
      "yr_built: True\n"
     ]
    }
   ],
   "source": [
    "from sklearn.feature_selection import RFECV\n",
    "from sklearn.preprocessing import StandardScaler\n",
    "\n",
    "# Importances are based on coefficient magnitude, so\n",
    "# we need to scale the data to normalize the coefficients\n",
    "X_train_for_RFECV = StandardScaler().fit_transform(X_train_second_model)\n",
    "\n",
    "model_for_RFECV = LinearRegression()\n",
    "\n",
    "# Instantiate and fit the selector\n",
    "selector = RFECV(model_for_RFECV, cv=splitter)\n",
    "selector.fit(X_train_for_RFECV, y_train)\n",
    "\n",
    "# Print the results\n",
    "print(\"Was the column selected?\")\n",
    "for index, col in enumerate(X_train_second_model.columns):\n",
    "    print(f\"{col}: {selector.support_[index]}\")"
   ]
  },
  {
   "cell_type": "code",
   "execution_count": 46,
   "metadata": {},
   "outputs": [
    {
     "data": {
      "text/html": [
       "<div>\n",
       "<style scoped>\n",
       "    .dataframe tbody tr th:only-of-type {\n",
       "        vertical-align: middle;\n",
       "    }\n",
       "\n",
       "    .dataframe tbody tr th {\n",
       "        vertical-align: top;\n",
       "    }\n",
       "\n",
       "    .dataframe thead th {\n",
       "        text-align: right;\n",
       "    }\n",
       "</style>\n",
       "<table border=\"1\" class=\"dataframe\">\n",
       "  <thead>\n",
       "    <tr style=\"text-align: right;\">\n",
       "      <th></th>\n",
       "      <th>sqft_living</th>\n",
       "      <th>bedrooms</th>\n",
       "      <th>bathrooms</th>\n",
       "      <th>sqft_lot</th>\n",
       "      <th>floors</th>\n",
       "      <th>waterfront</th>\n",
       "      <th>condition</th>\n",
       "      <th>grade</th>\n",
       "      <th>yr_built</th>\n",
       "      <th>train_score</th>\n",
       "      <th>val_score</th>\n",
       "    </tr>\n",
       "  </thead>\n",
       "  <tbody>\n",
       "    <tr>\n",
       "      <th>255</th>\n",
       "      <td>Yes</td>\n",
       "      <td>Yes</td>\n",
       "      <td>Yes</td>\n",
       "      <td>Yes</td>\n",
       "      <td>Yes</td>\n",
       "      <td>Yes</td>\n",
       "      <td>Yes</td>\n",
       "      <td>Yes</td>\n",
       "      <td>Yes</td>\n",
       "      <td>0.648763</td>\n",
       "      <td>0.662030</td>\n",
       "    </tr>\n",
       "    <tr>\n",
       "      <th>252</th>\n",
       "      <td>Yes</td>\n",
       "      <td>Yes</td>\n",
       "      <td>Yes</td>\n",
       "      <td>No</td>\n",
       "      <td>Yes</td>\n",
       "      <td>Yes</td>\n",
       "      <td>Yes</td>\n",
       "      <td>Yes</td>\n",
       "      <td>Yes</td>\n",
       "      <td>0.648077</td>\n",
       "      <td>0.661597</td>\n",
       "    </tr>\n",
       "    <tr>\n",
       "      <th>251</th>\n",
       "      <td>Yes</td>\n",
       "      <td>Yes</td>\n",
       "      <td>Yes</td>\n",
       "      <td>Yes</td>\n",
       "      <td>No</td>\n",
       "      <td>Yes</td>\n",
       "      <td>Yes</td>\n",
       "      <td>Yes</td>\n",
       "      <td>Yes</td>\n",
       "      <td>0.648242</td>\n",
       "      <td>0.661292</td>\n",
       "    </tr>\n",
       "    <tr>\n",
       "      <th>249</th>\n",
       "      <td>Yes</td>\n",
       "      <td>Yes</td>\n",
       "      <td>Yes</td>\n",
       "      <td>Yes</td>\n",
       "      <td>Yes</td>\n",
       "      <td>Yes</td>\n",
       "      <td>No</td>\n",
       "      <td>Yes</td>\n",
       "      <td>Yes</td>\n",
       "      <td>0.648004</td>\n",
       "      <td>0.661137</td>\n",
       "    </tr>\n",
       "    <tr>\n",
       "      <th>233</th>\n",
       "      <td>Yes</td>\n",
       "      <td>Yes</td>\n",
       "      <td>Yes</td>\n",
       "      <td>No</td>\n",
       "      <td>No</td>\n",
       "      <td>Yes</td>\n",
       "      <td>Yes</td>\n",
       "      <td>Yes</td>\n",
       "      <td>Yes</td>\n",
       "      <td>0.647468</td>\n",
       "      <td>0.660764</td>\n",
       "    </tr>\n",
       "    <tr>\n",
       "      <th>...</th>\n",
       "      <td>...</td>\n",
       "      <td>...</td>\n",
       "      <td>...</td>\n",
       "      <td>...</td>\n",
       "      <td>...</td>\n",
       "      <td>...</td>\n",
       "      <td>...</td>\n",
       "      <td>...</td>\n",
       "      <td>...</td>\n",
       "      <td>...</td>\n",
       "      <td>...</td>\n",
       "    </tr>\n",
       "    <tr>\n",
       "      <th>3</th>\n",
       "      <td>Yes</td>\n",
       "      <td>No</td>\n",
       "      <td>No</td>\n",
       "      <td>Yes</td>\n",
       "      <td>No</td>\n",
       "      <td>No</td>\n",
       "      <td>No</td>\n",
       "      <td>No</td>\n",
       "      <td>No</td>\n",
       "      <td>0.500846</td>\n",
       "      <td>0.501609</td>\n",
       "    </tr>\n",
       "    <tr>\n",
       "      <th>17</th>\n",
       "      <td>Yes</td>\n",
       "      <td>No</td>\n",
       "      <td>Yes</td>\n",
       "      <td>No</td>\n",
       "      <td>Yes</td>\n",
       "      <td>No</td>\n",
       "      <td>No</td>\n",
       "      <td>No</td>\n",
       "      <td>No</td>\n",
       "      <td>0.500048</td>\n",
       "      <td>0.500661</td>\n",
       "    </tr>\n",
       "    <tr>\n",
       "      <th>4</th>\n",
       "      <td>Yes</td>\n",
       "      <td>No</td>\n",
       "      <td>No</td>\n",
       "      <td>No</td>\n",
       "      <td>Yes</td>\n",
       "      <td>No</td>\n",
       "      <td>No</td>\n",
       "      <td>No</td>\n",
       "      <td>No</td>\n",
       "      <td>0.499975</td>\n",
       "      <td>0.500525</td>\n",
       "    </tr>\n",
       "    <tr>\n",
       "      <th>2</th>\n",
       "      <td>Yes</td>\n",
       "      <td>No</td>\n",
       "      <td>Yes</td>\n",
       "      <td>No</td>\n",
       "      <td>No</td>\n",
       "      <td>No</td>\n",
       "      <td>No</td>\n",
       "      <td>No</td>\n",
       "      <td>No</td>\n",
       "      <td>0.499883</td>\n",
       "      <td>0.500375</td>\n",
       "    </tr>\n",
       "    <tr>\n",
       "      <th>0</th>\n",
       "      <td>Yes</td>\n",
       "      <td>No</td>\n",
       "      <td>No</td>\n",
       "      <td>No</td>\n",
       "      <td>No</td>\n",
       "      <td>No</td>\n",
       "      <td>No</td>\n",
       "      <td>No</td>\n",
       "      <td>No</td>\n",
       "      <td>0.499868</td>\n",
       "      <td>0.500343</td>\n",
       "    </tr>\n",
       "  </tbody>\n",
       "</table>\n",
       "<p>256 rows × 11 columns</p>\n",
       "</div>"
      ],
      "text/plain": [
       "    sqft_living bedrooms bathrooms sqft_lot floors waterfront condition grade  \\\n",
       "255         Yes      Yes       Yes      Yes    Yes        Yes       Yes   Yes   \n",
       "252         Yes      Yes       Yes       No    Yes        Yes       Yes   Yes   \n",
       "251         Yes      Yes       Yes      Yes     No        Yes       Yes   Yes   \n",
       "249         Yes      Yes       Yes      Yes    Yes        Yes        No   Yes   \n",
       "233         Yes      Yes       Yes       No     No        Yes       Yes   Yes   \n",
       "..          ...      ...       ...      ...    ...        ...       ...   ...   \n",
       "3           Yes       No        No      Yes     No         No        No    No   \n",
       "17          Yes       No       Yes       No    Yes         No        No    No   \n",
       "4           Yes       No        No       No    Yes         No        No    No   \n",
       "2           Yes       No       Yes       No     No         No        No    No   \n",
       "0           Yes       No        No       No     No         No        No    No   \n",
       "\n",
       "    yr_built  train_score  val_score  \n",
       "255      Yes     0.648763   0.662030  \n",
       "252      Yes     0.648077   0.661597  \n",
       "251      Yes     0.648242   0.661292  \n",
       "249      Yes     0.648004   0.661137  \n",
       "233      Yes     0.647468   0.660764  \n",
       "..       ...          ...        ...  \n",
       "3         No     0.500846   0.501609  \n",
       "17        No     0.500048   0.500661  \n",
       "4         No     0.499975   0.500525  \n",
       "2         No     0.499883   0.500375  \n",
       "0         No     0.499868   0.500343  \n",
       "\n",
       "[256 rows x 11 columns]"
      ]
     },
     "execution_count": 46,
     "metadata": {},
     "output_type": "execute_result"
    }
   ],
   "source": [
    "from itertools import combinations\n",
    "\n",
    "features = [\"sqft_living\", \"bedrooms\", \"bathrooms\", \"sqft_lot\", \"floors\", \"waterfront\", \"condition\", \"grade\", \"yr_built\"]\n",
    "\n",
    "# Make a dataframe to hold the results (not strictly necessary\n",
    "# but it makes the output easier to read)\n",
    "results_df = pd.DataFrame(columns=features)\n",
    "\n",
    "# Selecting just piece_count\n",
    "results_df = results_df.append({\n",
    "    \"train_score\": baseline_scores[\"train_score\"].mean(),\n",
    "    \"val_score\": baseline_scores[\"test_score\"].mean()\n",
    "}, ignore_index=True)\n",
    "\n",
    "# Selecting 1 additional feature\n",
    "for feature in features[1:]:\n",
    "    scores = cross_validate(\n",
    "        estimator=second_model,\n",
    "        X=X_train_second_model[[\"sqft_living\", feature]],\n",
    "        y=y_train,\n",
    "        return_train_score=True,\n",
    "        cv=splitter\n",
    "    )\n",
    "    # Note: this technique of appending to a df is quite inefficient\n",
    "    # Here it works because it's only happening 6 times, but avoid\n",
    "    # doing this for a whole dataset\n",
    "    results_df = results_df.append({\n",
    "        feature: \"Yes\",\n",
    "        \"train_score\": scores[\"train_score\"].mean(),\n",
    "        \"val_score\": scores[\"test_score\"].mean()\n",
    "    }, ignore_index=True)\n",
    "    \n",
    "# Selecting 2 additional features\n",
    "for (feature1, feature2) in list(combinations(features[1:], 2)):\n",
    "    scores = cross_validate(\n",
    "        estimator=second_model,\n",
    "        X=X_train_second_model[[\"sqft_living\", feature1, feature2]],\n",
    "        y=y_train,\n",
    "        return_train_score=True,\n",
    "        cv=splitter\n",
    "    )\n",
    "    results_df = results_df.append({\n",
    "        feature1: \"Yes\",\n",
    "        feature2: \"Yes\",\n",
    "        \"train_score\": scores[\"train_score\"].mean(),\n",
    "        \"val_score\": scores[\"test_score\"].mean()\n",
    "    }, ignore_index=True)\n",
    "    \n",
    "# Selecting 3 additional features    \n",
    "for (feature1, feature2, feature3) in list(combinations(features[1:], 3)):\n",
    "    scores = cross_validate(\n",
    "        estimator=second_model,\n",
    "        X=X_train_second_model[[\"sqft_living\", feature1, feature2, feature3]],\n",
    "        y=y_train,\n",
    "        return_train_score=True,\n",
    "        cv=splitter\n",
    "    )\n",
    "    results_df = results_df.append({\n",
    "        feature1: \"Yes\",\n",
    "        feature2: \"Yes\",\n",
    "        feature3: \"Yes\",\n",
    "        \"train_score\": scores[\"train_score\"].mean(),\n",
    "        \"val_score\": scores[\"test_score\"].mean()\n",
    "    }, ignore_index=True)\n",
    "    \n",
    "# Selecting 4 additional features    \n",
    "for (feature1, feature2, feature3, feature4) in list(combinations(features[1:], 4)):\n",
    "    scores = cross_validate(\n",
    "        estimator=second_model,\n",
    "        X=X_train_second_model[[\"sqft_living\", feature1, feature2, feature3, feature4]],\n",
    "        y=y_train,\n",
    "        return_train_score=True,\n",
    "        cv=splitter\n",
    "    )\n",
    "    results_df = results_df.append({\n",
    "        feature1: \"Yes\",\n",
    "        feature2: \"Yes\",\n",
    "        feature3: \"Yes\",\n",
    "        feature4: \"Yes\",\n",
    "        \"train_score\": scores[\"train_score\"].mean(),\n",
    "        \"val_score\": scores[\"test_score\"].mean()\n",
    "    }, ignore_index=True)\n",
    "    \n",
    "# Selecting 5 additional features    \n",
    "for (feature1, feature2, feature3, feature4, feature5) in list(combinations(features[1:], 5)):\n",
    "    scores = cross_validate(\n",
    "        estimator=second_model,\n",
    "        X=X_train_second_model[[\"sqft_living\", feature1, feature2, feature3, feature4, feature5]],\n",
    "        y=y_train,\n",
    "        return_train_score=True,\n",
    "        cv=splitter\n",
    "    )\n",
    "    results_df = results_df.append({\n",
    "        feature1: \"Yes\",\n",
    "        feature2: \"Yes\",\n",
    "        feature3: \"Yes\",\n",
    "        feature4: \"Yes\",\n",
    "        feature5: \"Yes\",\n",
    "        \"train_score\": scores[\"train_score\"].mean(),\n",
    "        \"val_score\": scores[\"test_score\"].mean()\n",
    "    }, ignore_index=True)\n",
    "    \n",
    "# Selecting 6 additional features    \n",
    "for (feature1, feature2, feature3, feature4, feature5, feature6) in list(combinations(features[1:], 6)):\n",
    "    scores = cross_validate(\n",
    "        estimator=second_model,\n",
    "        X=X_train_second_model[[\"sqft_living\", feature1, feature2, feature3, feature4, feature5, feature6]],\n",
    "        y=y_train,\n",
    "        return_train_score=True,\n",
    "        cv=splitter\n",
    "    )\n",
    "    results_df = results_df.append({\n",
    "        feature1: \"Yes\",\n",
    "        feature2: \"Yes\",\n",
    "        feature3: \"Yes\",\n",
    "        feature4: \"Yes\",\n",
    "        feature5: \"Yes\",\n",
    "        feature6: \"Yes\",\n",
    "        \"train_score\": scores[\"train_score\"].mean(),\n",
    "        \"val_score\": scores[\"test_score\"].mean()\n",
    "    }, ignore_index=True)\n",
    "    \n",
    "# Selecting 7 additional features    \n",
    "for (feature1, feature2, feature3, feature4, feature5, feature6, feature7) in list(combinations(features[1:], 7)):\n",
    "    scores = cross_validate(\n",
    "        estimator=second_model,\n",
    "        X=X_train_second_model[[\"sqft_living\", feature1, feature2, feature3, feature4, feature5, feature6, feature7]],\n",
    "        y=y_train,\n",
    "        return_train_score=True,\n",
    "        cv=splitter\n",
    "    )\n",
    "    results_df = results_df.append({\n",
    "        feature1: \"Yes\",\n",
    "        feature2: \"Yes\",\n",
    "        feature3: \"Yes\",\n",
    "        feature4: \"Yes\",\n",
    "        feature5: \"Yes\",\n",
    "        feature6: \"Yes\",\n",
    "        feature7: \"Yes\",\n",
    "        \"train_score\": scores[\"train_score\"].mean(),\n",
    "        \"val_score\": scores[\"test_score\"].mean()\n",
    "    }, ignore_index=True)\n",
    "    \n",
    "# Including all additional features\n",
    "results_df = results_df.append({\n",
    "    \"bedrooms\": \"Yes\", \"bathrooms\": \"Yes\", \"sqft_lot\": \"Yes\", \"floors\": \"Yes\", \n",
    "    \"waterfront\": \"Yes\", \"condition\": \"Yes\", \"grade\": \"Yes\", \"yr_built\": \"Yes\",\n",
    "    \"train_score\": second_model_scores[\"train_score\"].mean(),\n",
    "    \"val_score\": second_model_scores[\"test_score\"].mean()\n",
    "}, ignore_index=True)\n",
    "\n",
    "# Fill in remaining values where appropriate\n",
    "results_df[\"sqft_living\"] = \"Yes\"\n",
    "results_df.fillna(\"No\", inplace=True)\n",
    "\n",
    "results_df.sort_values(by=['val_score'], ascending=False)\n",
    "# Sorting by validation data because we want the ability to generate prices for \n",
    "#future Home sales, not the ability to fit well to the known Home sales features"
   ]
  },
  {
   "cell_type": "code",
   "execution_count": 47,
   "metadata": {},
   "outputs": [
    {
     "data": {
      "text/plain": [
       "0.6361494010802955"
      ]
     },
     "execution_count": 47,
     "metadata": {},
     "output_type": "execute_result"
    }
   ],
   "source": [
    "final_model = LinearRegression()\n",
    "X_test_final = X_test.drop([\"id\"], axis=1).copy()\n",
    "\n",
    "# Fit the model on X_train_final and y_train\n",
    "final_model.fit(X_train_second_model, y_train)\n",
    "\n",
    "# Score the model on X_test_final and y_test\n",
    "# (use the built-in .score method)\n",
    "final_model.score(X_test_final, y_test)"
   ]
  },
  {
   "cell_type": "code",
   "execution_count": 48,
   "metadata": {},
   "outputs": [
    {
     "data": {
      "text/plain": [
       "216596.77782977765"
      ]
     },
     "execution_count": 48,
     "metadata": {},
     "output_type": "execute_result"
    }
   ],
   "source": [
    "from sklearn.metrics import mean_squared_error\n",
    "\n",
    "mean_squared_error(y_test, final_model.predict(X_test_final), squared=False)\n",
    "#means the model created could be off by as much as $216596"
   ]
  },
  {
   "cell_type": "code",
   "execution_count": 49,
   "metadata": {},
   "outputs": [
    {
     "name": "stdout",
     "output_type": "stream",
     "text": [
      "bedrooms       -42176.745449\n",
      "bathrooms       50786.621402\n",
      "sqft_living       182.745921\n",
      "sqft_lot           -0.234938\n",
      "floors          21108.619332\n",
      "waterfront     787274.580114\n",
      "condition       17830.204723\n",
      "grade          127477.487846\n",
      "yr_built        -3829.603494\n",
      "Name: Coefficients, dtype: float64\n",
      "\n",
      "Intercept: 6672793.669810889\n"
     ]
    }
   ],
   "source": [
    "print(pd.Series(final_model.coef_, index=X_train_second_model.columns, name=\"Coefficients\"))\n",
    "print()\n",
    "print(\"Intercept:\", final_model.intercept_)\n",
    "#Intercept starting price of home, up and down for each column. "
   ]
  },
  {
   "cell_type": "code",
   "execution_count": 50,
   "metadata": {},
   "outputs": [
    {
     "data": {
      "image/png": "[encoded data removed]",
      "text/plain": [
       "<Figure size 432x288 with 1 Axes>"
      ]
     },
     "metadata": {
      "needs_background": "light"
     },
     "output_type": "display_data"
    }
   ],
   "source": [
    "preds = final_model.predict(X_test_final)\n",
    "fig, ax = plt.subplots()\n",
    "\n",
    "perfect_line = np.arange(y_test.min(), y_test.max())\n",
    "ax.plot(perfect_line, linestyle=\"--\", color=\"orange\", label=\"Perfect Fit\")\n",
    "ax.scatter(y_test, preds, alpha=0.5)\n",
    "ax.set_xlabel(\"Actual Price\")\n",
    "ax.set_ylabel(\"Predicted Price\")\n",
    "ax.legend();\n",
    "#Linearity"
   ]
  },
  {
   "cell_type": "code",
   "execution_count": 51,
   "metadata": {},
   "outputs": [
    {
     "data": {
      "image/png": "[encoded data removed]",
      "text/plain": [
       "<Figure size 432x288 with 1 Axes>"
      ]
     },
     "metadata": {
      "needs_background": "light"
     },
     "output_type": "display_data"
    }
   ],
   "source": [
    "import scipy.stats as stats\n",
    "\n",
    "residuals = (y_test - preds)\n",
    "sm.graphics.qqplot(residuals, dist=stats.norm, line='45', fit=True);\n",
    "#Normality"
   ]
  },
  {
   "cell_type": "code",
   "execution_count": 52,
   "metadata": {},
   "outputs": [
    {
     "data": {
      "text/plain": [
       "bedrooms        22.206483\n",
       "bathrooms       24.618493\n",
       "sqft_living     24.593274\n",
       "sqft_lot         1.186860\n",
       "floors          13.266779\n",
       "waterfront       1.029062\n",
       "condition       29.589197\n",
       "grade          123.630312\n",
       "yr_built       123.257248\n",
       "Name: Variance Inflation Factor, dtype: float64"
      ]
     },
     "execution_count": 52,
     "metadata": {},
     "output_type": "execute_result"
    }
   ],
   "source": [
    "from statsmodels.stats.outliers_influence import variance_inflation_factor\n",
    "vif = [variance_inflation_factor(X_train_second_model.values, i) for i in range(X_train_second_model.shape[1])]\n",
    "pd.Series(vif, index=X_train_second_model.columns, name=\"Variance Inflation Factor\")\n",
    "#multicollinearity- well above 5 on several, so high multicollinearity"
   ]
  },
  {
   "cell_type": "code",
   "execution_count": 53,
   "metadata": {},
   "outputs": [
    {
     "data": {
      "image/png": "[encoded data removed]",
      "text/plain": [
       "<Figure size 432x288 with 1 Axes>"
      ]
     },
     "metadata": {
      "needs_background": "light"
     },
     "output_type": "display_data"
    }
   ],
   "source": [
    "fig, ax = plt.subplots()\n",
    "\n",
    "ax.scatter(preds, residuals, alpha=0.5)\n",
    "ax.plot(preds, [0 for i in range(len(X_test))])\n",
    "ax.set_xlabel(\"Predicted Value\")\n",
    "ax.set_ylabel(\"Actual - Predicted Value\");\n",
    "#Homoscedasticity- variation of error across independent variables"
   ]
  }
 ],
 "metadata": {
  "kernelspec": {
   "display_name": "Python 3",
   "language": "python",
   "name": "python3"
  },
  "language_info": {
   "codemirror_mode": {
    "name": "ipython",
    "version": 3
   },
   "file_extension": ".py",
   "mimetype": "text/x-python",
   "name": "python",
   "nbconvert_exporter": "python",
   "pygments_lexer": "ipython3",
   "version": "3.8.5"
  }
 },
 "nbformat": 4,
 "nbformat_minor": 2
}
